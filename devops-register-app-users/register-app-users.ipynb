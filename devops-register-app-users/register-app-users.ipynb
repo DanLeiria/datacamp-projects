{
 "cells": [
  {
   "cell_type": "markdown",
   "metadata": {},
   "source": [
    "You are a junior developer working in a small start-up. Your managers have asked you to develop a new account registration system for a mobile app. The system must validate user input on the sign-up form before creating an account. \n",
    "\n",
    "The previous junior developer wrote some helper functions that validate the name, email, and password. Use these functions to register users, store their data, and implement some error handling! These have been imported into the workspace for you. They will be a great help to you when registering the user, but first you have to understand what the function does! Inspect the docstrings of each of the helper functions: `validate_name`, `validate_email` and `validate_password`."
   ]
  },
  {
   "cell_type": "code",
   "execution_count": 12,
   "metadata": {},
   "outputs": [
    {
     "name": "stdout",
     "output_type": "stream",
     "text": [
      "validate_name\n",
      "\n",
      " Checks that the name is greater than two characters and is a string data type.\n",
      "\n",
      " Args:\n",
      "    name (str): The inputted name from the user.\n",
      "\n",
      " Returns:\n",
      "    bool: True if the name passes the check, False otherwise.\n",
      "    \n",
      "--------------------\n",
      "\n",
      "validate_email\n",
      "\n",
      " Checks that the email address is in a valid format, has a username greater than 1 character, an '@' symbol, and an allowed domain that is in the `top_level_domains` variable.\n",
      "\n",
      "  Args:\n",
      "    email (str): The inputted email from the user.\n",
      "\n",
      "  Returns:\n",
      "    bool: True if the email passes the checks, False otherwise.\n",
      "    \n",
      "--------------------\n",
      "\n",
      "validate_password\n",
      "\n",
      " Checks that the password is strong enough. It should include a capital letter, a number between 0-9 and be greater than 8 characters.\n",
      "\n",
      "  Args:\n",
      "    password (str): The inputted password from the user.\n",
      "\n",
      "  Returns:\n",
      "    bool: True if the password passes the checks, False otherwise.\n",
      "    \n",
      "['.org', '.net', '.edu', '.ac', '.uk', '.com']\n"
     ]
    }
   ],
   "source": [
    "# Re-run this cell and examine the docstring of each function\n",
    "from python_functions import validate_name, validate_email, validate_password, top_level_domains\n",
    "\n",
    "print(\"validate_name\\n\")\n",
    "print(validate_name.__doc__)\n",
    "print(\"--------------------\\n\")\n",
    "\n",
    "print(\"validate_email\\n\")\n",
    "print(validate_email.__doc__) \n",
    "print(\"--------------------\\n\")\n",
    "\n",
    "print(\"validate_password\\n\")\n",
    "print(validate_password.__doc__)\n",
    "\n",
    "# The top level domains variable is used in validate_email to approve only certain email domains\n",
    "print(top_level_domains)"
   ]
  },
  {
   "cell_type": "markdown",
   "metadata": {},
   "source": [
    "# Task:\n",
    "\n",
    "## 1) Create a validate_user() function, using some helper validation functions to verify user input.\n",
    "\n",
    "The function should take in the parameters: name, email, and password.\n",
    "The function should call each of the helper validation functions (validate_name(), validate_email(), and validate_password()).\n",
    "If any check fails, raise a ValueError with a descriptive error message about the failing validation.\n",
    "If all checks pass, return True.\n",
    "\n",
    "Now that you've validated that all the user details are correct, you want to allow users to register to the app. \n",
    "\n",
    "## 2) Create a register_user() function to handle the registration logic.\n",
    "\n",
    "The function should take in the parameters: name, email, and password.\n",
    "Inside, it should call validate_user() to ensure that the user input is valid.\n",
    "If validation fails, the function should return False.\n",
    "Otherwise, it should create and return a dictionary with the keys: name, email, and password."
   ]
  },
  {
   "cell_type": "code",
   "execution_count": 13,
   "metadata": {},
   "outputs": [],
   "source": [
    "def validate_user(name, email, password):\n",
    "\n",
    "    # Check if the different inputs\n",
    "    valid_name = validate_name(name)\n",
    "    valid_email = validate_email(email)\n",
    "    valid_password = validate_password(password)\n",
    "\n",
    "    if valid_name and valid_email and valid_password:\n",
    "        return True\n",
    "    else:\n",
    "         raise ValueError(\"Invalid input in one of the credentials\")\n",
    "    \n",
    "\n",
    "\n",
    "### Test:\n",
    "\n",
    "# Good credentials\n",
    "#validate_user(\"Daniel Henrique\", \"dlh@email.com\", \"123PASSword123\")\n",
    "\n",
    "# Bad credentials (check the password)\n",
    "#validate_user(\"Daniel Henrique\", \"dlh@email.com\", \"123password123\")\n"
   ]
  },
  {
   "cell_type": "code",
   "execution_count": 14,
   "metadata": {},
   "outputs": [
    {
     "name": "stdout",
     "output_type": "stream",
     "text": [
      "{'name': 'Daniel Henrique', 'email': 'dlh@email.com', 'password': '123PASSword123'}\n",
      "False\n"
     ]
    }
   ],
   "source": [
    "def register_user(name, email, password):\n",
    "\n",
    "    try:\n",
    "        # Validate the user's input\n",
    "        validate_user(name, email, password)\n",
    "\n",
    "        # Create the user dictionary\n",
    "        user = {\n",
    "            \"name\": name.strip(),\n",
    "            \"email\": email.strip(),\n",
    "            \"password\": password  # Storing plaintext passwords is not secure; consider hashing in real applications.\n",
    "            }   \n",
    "\n",
    "        return user\n",
    "\n",
    "    except ValueError:\n",
    "        return False\n",
    "\n",
    "### Test:\n",
    "\n",
    "# Good credentials\n",
    "print(register_user(\"Daniel Henrique\", \"dlh@email.com\", \"123PASSword123\"))\n",
    "\n",
    "# Bad credentials (check the password)\n",
    "print(register_user(\"Daniel Henrique\", \"dlh@email.com\", \"123password123\"))"
   ]
  }
 ],
 "metadata": {
  "kernelspec": {
   "display_name": "Python 3",
   "language": "python",
   "name": "python3"
  },
  "language_info": {
   "codemirror_mode": {
    "name": "ipython",
    "version": 3
   },
   "file_extension": ".py",
   "mimetype": "text/x-python",
   "name": "python",
   "nbconvert_exporter": "python",
   "pygments_lexer": "ipython3",
   "version": "3.12.5"
  }
 },
 "nbformat": 4,
 "nbformat_minor": 2
}
