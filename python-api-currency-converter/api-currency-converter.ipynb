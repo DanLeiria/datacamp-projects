{
 "cells": [
  {
   "cell_type": "markdown",
   "metadata": {},
   "source": [
    "You've been running our very successful gadget webshop 'DataGadgets' for a few years and have recently expanded into new territories. While you've been focused on the US market for the first five years of our existence, you now are shipping our cool data gadgets to the UK and Europe, too! But now our in-house built reporting has broken! Transactions don't only come in USD, but you're also receiving transactions in EUR and GPB. \n",
    "\n",
    "To better understand the volume of transactions being made, you should convert the non-USD transactions to USD and sum up the total. To do this, however, you'll need to use the proper exchange rates. \n",
    "\n",
    "In this project, you'll start with a CSV file containing all e-commerce transactions made on January 21st, but in their original currencies. Your job is to calculate the total sum in USD of all transactions so you know how much USD you sold on January 21st. To do this, you'll need to convert any non-USD transactions to USD using the exchange rate from January 21st, 2024. \n",
    "\n",
    "To get the exchange rates from January 21st, 2024, you'll rely on [VAT Comply rates API's](https://www.vatcomply.com/documentation#rates) public and free currency exchange API. You'll also use `pandas` to load the CSV file into a DataFrame and the `requests` package to make interacting with the API easier. \n",
    "\n",
    "You need to update the `orders` DataFrame so the final version has two new columns: `exchange_rate` and `amount_usd`. The final version should look as follows:\n",
    "\n",
    "| `amount` | `currency` | `exchange_rate` | `amount_usd` |\n",
    "|-|-|-|-|\n",
    "| 43.75 | EUR | ... | ... |\n",
    "| 385.5 | GBP | ... | ... |\n",
    "| 495.5 | GBP | ... | ... |\n",
    "| 117.99 | GBP | ... | ... |\n",
    "| 624 | USD | ... | ... |"
   ]
  },
  {
   "cell_type": "code",
   "execution_count": 5,
   "metadata": {},
   "outputs": [
    {
     "name": "stdout",
     "output_type": "stream",
     "text": [
      "   amount currency\n",
      "0   43.75      EUR\n",
      "1  385.50      GBP\n",
      "2  495.50      GBP\n",
      "3  117.99      GBP\n",
      "4  624.00      USD\n",
      "(723, 2)\n"
     ]
    }
   ],
   "source": [
    "# Import required packages/libraries\n",
    "import pandas as pd\n",
    "import requests\n",
    "import matplotlib.pyplot as plt\n",
    "import seaborn as sns\n",
    "\n",
    "\n",
    "# Read the CSV file into a DataFrame\n",
    "orders = pd.read_csv('data/orders-2024-01-21.csv')\n",
    "print(orders.head())\n",
    "\n",
    "print(orders.shape)"
   ]
  },
  {
   "cell_type": "code",
   "execution_count": 6,
   "metadata": {},
   "outputs": [
    {
     "data": {
      "image/png": "[encoded data removed]",
      "text/plain": [
       "<Figure size 640x480 with 1 Axes>"
      ]
     },
     "metadata": {},
     "output_type": "display_data"
    }
   ],
   "source": [
    "### Plot number of transactions and its currency\n",
    "sns.countplot(x = 'currency', data = orders)\n",
    "plt.show()"
   ]
  },
  {
   "cell_type": "code",
   "execution_count": 7,
   "metadata": {},
   "outputs": [
    {
     "name": "stdout",
     "output_type": "stream",
     "text": [
      "200\n",
      "OK\n",
      "{\"date\":\"2024-01-19\",\"base\":\"USD\",\"rates\":{\"EUR\":0.918526683200147,\"USD\":1.0,\"JPY\":148.0389455313677,\"BGN\":1.7964544870028474,\"CZK\":22.791402590245244,\"DKK\":6.849912739965095,\"GBP\":0.788325525856526,\"HUF\":350.44548544135205,\"PLN\":4.0064296867824005,\"RON\":4.572058418297051,\"SEK\":10.452833654817674,\"CHF\":0.8688343896390189,\"ISK\":136.7686231285019,\"NOK\":10.480389455313677,\"TRY\":30.192523192798753,\"AUD\":1.5155690272802425,\"BRL\":4.908974005694866,\"CAD\":1.3461927068981354,\"CNY\":7.191237255442271,\"HKD\":7.819233948746211,\"IDR\":15607.449251400754,\"ILS\":3.7403325066593185,\"INR\":83.07936070542848,\"KRW\":1333.6915587397814,\"MXN\":17.129971525672822,\"MYR\":4.717461192247635,\"NZD\":1.6347937907596215,\"PHP\":55.98971250114816,\"SGD\":1.3409571048038946,\"THB\":35.45972260494167,\"ZAR\":19.00358225406448}}\n"
     ]
    }
   ],
   "source": [
    "### API call\n",
    "\n",
    "# Making a GET request\n",
    "# Base currency is USD\n",
    "# The transactions date is 2024-01-21\n",
    "base_rates = requests.get('https://api.vatcomply.com/rates?base=USD&date=2024-01-21')\n",
    "\n",
    "# Check status code for response received\n",
    "print(base_rates.status_code) # 200 indicates success\n",
    "\n",
    "# Print status code meaning of the response\n",
    "print(base_rates.reason)\n",
    "\n",
    "# Print content of the response\n",
    "print(base_rates.text)"
   ]
  },
  {
   "cell_type": "code",
   "execution_count": 9,
   "metadata": {},
   "outputs": [
    {
     "name": "stdout",
     "output_type": "stream",
     "text": [
      "The total sales revenue is: 326864.4 USD\n"
     ]
    }
   ],
   "source": [
    "### Convert sales revenue\n",
    "\n",
    "# Get the rates\n",
    "rates = base_rates.json()['rates']\n",
    "\n",
    "# Add the exchange rates of the different currencies\n",
    "orders['exchange_rate'] = orders['currency'].map(rates)\n",
    "\n",
    "# Convert the currencies to USD\n",
    "orders['amount_usd'] = orders['amount'] * orders['exchange_rate']\n",
    "\n",
    "# Observe the final version of the orders dataframe\n",
    "orders.head()\n",
    "\n",
    "# Calculate total sales revenue\n",
    "total_usd_sales = orders['amount_usd'].sum()\n",
    "\n",
    "print ('The total sales revenue is:', round(total_usd_sales, 2), 'USD')"
   ]
  }
 ],
 "metadata": {
  "kernelspec": {
   "display_name": "Python 3",
   "language": "python",
   "name": "python3"
  },
  "language_info": {
   "codemirror_mode": {
    "name": "ipython",
    "version": 3
   },
   "file_extension": ".py",
   "mimetype": "text/x-python",
   "name": "python",
   "nbconvert_exporter": "python",
   "pygments_lexer": "ipython3",
   "version": "3.12.5"
  }
 },
 "nbformat": 4,
 "nbformat_minor": 2
}
