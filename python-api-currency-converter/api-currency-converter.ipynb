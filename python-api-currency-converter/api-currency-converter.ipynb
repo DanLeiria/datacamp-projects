{
 "cells": [
  {
   "cell_type": "markdown",
   "metadata": {},
   "source": [
    "You've been running our very successful gadget webshop 'DataGadgets' for a few years and have recently expanded into new territories. While you've been focused on the US market for the first five years of our existence, you now are shipping our cool data gadgets to the UK and Europe, too! But now our in-house built reporting has broken! Transactions don't only come in USD, but you're also receiving transactions in EUR and GPB. \n",
    "\n",
    "To better understand the volume of transactions being made, you should convert the non-USD transactions to USD and sum up the total. To do this, however, you'll need to use the proper exchange rates. \n",
    "\n",
    "In this project, you'll start with a CSV file containing all e-commerce transactions made on January 21st, but in their original currencies. Your job is to calculate the total sum in USD of all transactions so you know how much USD you sold on January 21st. To do this, you'll need to convert any non-USD transactions to USD using the exchange rate from January 21st, 2024. \n",
    "\n",
    "To get the exchange rates from January 21st, 2024, you'll rely on [VAT Comply rates API's](https://www.vatcomply.com/documentation#rates) public and free currency exchange API. You'll also use `pandas` to load the CSV file into a DataFrame and the `requests` package to make interacting with the API easier. \n",
    "\n",
    "You need to update the `orders` DataFrame so the final version has two new columns: `exchange_rate` and `amount_usd`. The final version should look as follows:\n",
    "\n",
    "| `amount` | `currency` | `exchange_rate` | `amount_usd` |\n",
    "|-|-|-|-|\n",
    "| 43.75 | EUR | ... | ... |\n",
    "| 385.5 | GBP | ... | ... |\n",
    "| 495.5 | GBP | ... | ... |\n",
    "| 117.99 | GBP | ... | ... |\n",
    "| 624 | USD | ... | ... |"
   ]
  }
 ],
 "metadata": {
  "language_info": {
   "name": "python"
  }
 },
 "nbformat": 4,
 "nbformat_minor": 2
}
